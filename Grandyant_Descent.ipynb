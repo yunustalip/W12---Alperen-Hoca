{
  "nbformat": 4,
  "nbformat_minor": 0,
  "metadata": {
    "colab": {
      "provenance": []
    },
    "kernelspec": {
      "name": "python3",
      "display_name": "Python 3"
    },
    "language_info": {
      "name": "python"
    },
    "gpuClass": "standard"
  },
  "cells": [
    {
      "cell_type": "code",
      "execution_count": 22,
      "metadata": {
        "colab": {
          "base_uri": "https://localhost:8080/"
        },
        "id": "bqKOJ12nagjG",
        "outputId": "75753804-adc9-40ce-8e0e-76208b1899f0"
      },
      "outputs": [
        {
          "output_type": "stream",
          "name": "stdout",
          "text": [
            "-1\n",
            "-2  for learning rate  0.001\n",
            "-1.099104815518875  for learning rate  0.01\n",
            "-2  for learning rate  0.0001\n",
            "-1.0096977372978753  for learning rate  0.1\n"
          ]
        }
      ],
      "source": [
        "\"\"\"\n",
        "\n",
        "@author: talip\n",
        "\n",
        "Soru 1)Gradient Descent algortimasını kullanarak x^2+2*x+1 fonksiyonu için global minumum noktasını bulunuz.\n",
        "      \n",
        "Soru 2) Learning rate parametresini 0.001, 0.01,0.0001,0.1 olarak deneyerek sonuçlarını karşılaştırınız.\n",
        "\n",
        "\"\"\"\n",
        "import numpy as np\n",
        "\n",
        "def gradient_descent(gradient, start, learn_rate, n_iter=1000, tolerance=1e-3):\n",
        "    vector = start\n",
        "    for _ in range(n_iter):\n",
        "        diff = -learn_rate * gradient(vector)\n",
        "        if np.all(np.abs(diff) <= tolerance):\n",
        "            break\n",
        "        vector += diff\n",
        "    return vector\n",
        "\n",
        "print(gradient_descent( gradient=lambda v: v**2+2*v+1, start=0, learn_rate=1))\n",
        "\n",
        "\n",
        "for i in [0.001, 0.01,0.0001,0.1]:\n",
        "  print(gradient_descent( gradient=lambda v: v+1, start=-2, learn_rate=i),\" for learning rate \", i)"
      ]
    }
  ]
}